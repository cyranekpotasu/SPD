{
 "cells": [
  {
   "cell_type": "heading",
   "metadata": {},
   "level": 1,
   "source": [
    "Wariant dla 10 zadań:"
   ]
  },
  {
   "cell_type": "markdown",
   "metadata": {},
   "source": [
    "#  Szeregowanie przepływowe. Algorytm NEH\n",
    "\n",
    "**Autorzy:**  \n",
    "Norbert Cyran  \n",
    "Robert Stanik\n",
    "\n",
    "**Prowadzący:**  \n",
    "mgr. inż. Teodor Niżyński"
   ]
  },
  {
   "cell_type": "markdown",
   "metadata": {},
   "source": [
    "#### Porównanie przeglądu całkowitego i algorytmu Johnsona z NEH\n",
    "\n",
    "Badanymi wcześniej algorytmami służącymi do szeregowania przepływowego były algorytmy przeglądu całkowitego i algorytm Johnsona.\n",
    "\n",
    "Algorytm przeglądu całkowitego jest niewydajny - ma złożoność obliczeniową $O(n!)$, co w praktyce wyklucza go do szeregowania więcej niż 10 zadań. Algorytm Johnsona lepiej wypada w kwestii złożoności obliczeniowej, lecz nie można go stosować dla więcej niż trzech maszyn."
   ]
  },
  {
   "cell_type": "code",
   "execution_count": 5,
   "metadata": {},
   "outputs": [],
   "source": [
    "import os\n",
    "\n",
    "import numpy as np\n",
    "from scheduler import Job, Scheduler"
   ]
  },
  {
   "cell_type": "code",
   "execution_count": 1,
   "metadata": {
    "collapsed": false
   },
   "outputs": [
    {
     "name": "stdout",
     "output_type": "stream",
     "text": [
      "Complete review: \n",
      "1.15 ms ± 20.6 µs per loop (mean ± std. dev. of 7 runs, 1000 loops each)\n",
      "Johnson's algorithm: \n",
      "72.6 µs ± 4.17 µs per loop (mean ± std. dev. of 7 runs, 10000 loops each)\n",
      "NEH: \n",
      "583 µs ± 70.1 µs per loop (mean ± std. dev. of 7 runs, 1000 loops each)\n"
     ]
    }
   ],
   "source": [
    "job_data = np.loadtxt('data/ta000.txt', dtype=int, skiprows=1)\n",
    "jobs = [Job(job_id, times) for job_id, times in enumerate(job_data)]\n",
    "\n",
    "scheduler = Scheduler(jobs)\n",
    "\n",
    "print('Complete review: ')\n",
    "%timeit scheduler.complete_review()\n",
    "\n",
    "print(\"Johnson's algorithm: \")\n",
    "%timeit scheduler.johnsons_algorithm()\n",
    "\n",
    "print('NEH: ')\n",
    "%timeit scheduler.neh_algorithm()"
   ]
  },
  {
   "cell_type": "code",
   "execution_count": 2,
   "metadata": {},
   "outputs": [
    {
     "name": "stdout",
     "output_type": "stream",
     "text": [
      "NEH: \n",
      "17.9 ms ± 48.8 µs per loop (mean ± std. dev. of 7 runs, 100 loops each)\n"
     ]
    }
   ],
   "source": [
    "job_data = np.loadtxt('data/ta010.txt', dtype=int, skiprows=1)\n",
    "jobs = [Job(job_id, times) for job_id, times in enumerate(job_data)]\n",
    "\n",
    "scheduler = Scheduler(jobs)\n",
    "\n",
    "print('NEH: ')\n",
    "%timeit scheduler.neh_algorithm()"
   ]
  },
  {
   "cell_type": "markdown",
   "metadata": {},
   "source": [
    "Ten sam wariant próbowano wykonać dla przeglądu zupełnego - po pół godziny obliczania nie otrzymano wyniku."
   ]
  },
  {
   "cell_type": "markdown",
   "metadata": {},
   "source": [
    "Algorytm NEH wzbogacono również o ulepszenie Insert Reinsert, które pozwala znaleźć lepszą permutację, lecz lekko wydłużając obliczenia"
   ]
  },
  {
   "cell_type": "code",
   "execution_count": 3,
   "metadata": {},
   "outputs": [
    {
     "name": "stdout",
     "output_type": "stream",
     "text": [
      "NEH: \n",
      "27.4 ms ± 344 µs per loop (mean ± std. dev. of 7 runs, 10 loops each)\n",
      "NEH IR1: \n",
      "52.5 ms ± 203 µs per loop (mean ± std. dev. of 7 runs, 10 loops each)\n"
     ]
    }
   ],
   "source": [
    "job_data = np.loadtxt('data/ta020.txt', dtype=int, skiprows=1)\n",
    "jobs = [Job(job_id, times) for job_id, times in enumerate(job_data)]\n",
    "\n",
    "scheduler = Scheduler(jobs)\n",
    "\n",
    "print('NEH: ')\n",
    "%timeit scheduler.neh_algorithm()\n",
    "\n",
    "print('NEH IR1: ')\n",
    "%timeit scheduler.neh_algorithm(improvement=1)"
   ]
  },
  {
   "cell_type": "markdown",
   "metadata": {},
   "source": [
    "## Wyniki dla instancji ta___"
   ]
  },
  {
   "cell_type": "code",
   "execution_count": 7,
   "metadata": {},
   "outputs": [
    {
     "name": "stdout",
     "output_type": "stream",
     "text": [
      "ta070.txt\n",
      "NEH: \n",
      "Total makespan:  5345\n",
      "Job order:  [20, 74, 55, 75, 70, 50, 83, 29, 31, 58, 9, 26, 69, 68, 90, 32, 23, 51, 98, 42, 44, 18, 24, 54, 87, 28, 11, 15, 81, 94, 56, 49, 16, 60, 57, 22, 80, 73, 72, 33, 93, 79, 19, 91, 4, 1, 66, 100, 43, 99, 67, 84, 64, 63, 95, 48, 76, 71, 61, 88, 97, 82, 40, 17, 30, 13, 39, 14, 34, 53, 59, 86, 41, 5, 96, 6, 45, 78, 77, 3, 25, 89, 36, 52, 21, 37, 8, 85, 38, 7, 10, 12, 65, 92, 35, 47, 62, 46, 27, 2]\n",
      "\n",
      "NEH IR1: \n",
      "Total makespan:  5342\n",
      "Job order:  [20, 75, 55, 50, 57, 26, 29, 83, 31, 88, 27, 92, 51, 58, 100, 69, 90, 32, 23, 11, 98, 42, 44, 54, 87, 24, 68, 28, 15, 94, 56, 81, 67, 79, 19, 80, 73, 72, 33, 60, 9, 49, 93, 43, 91, 53, 1, 22, 84, 3, 99, 64, 63, 13, 41, 18, 95, 76, 48, 66, 71, 34, 82, 40, 97, 17, 4, 6, 16, 30, 45, 39, 5, 36, 77, 61, 78, 12, 14, 52, 37, 59, 86, 96, 21, 89, 25, 8, 85, 38, 46, 65, 7, 10, 62, 74, 70, 35, 47, 2]\n",
      "\n",
      "\n",
      "ta030.txt\n",
      "NEH: \n",
      "Total makespan:  2277\n",
      "Job order:  [6, 3, 17, 8, 19, 15, 12, 9, 10, 16, 1, 2, 13, 5, 7, 18, 4, 11, 20, 14]\n",
      "\n",
      "NEH IR1: \n",
      "Total makespan:  2284\n",
      "Job order:  [7, 6, 13, 15, 12, 9, 8, 2, 17, 3, 4, 19, 10, 5, 20, 1, 18, 11, 16, 14]\n",
      "\n",
      "\n",
      "ta020.txt\n",
      "NEH: \n",
      "Total makespan:  1653\n",
      "Job order:  [5, 13, 17, 9, 19, 4, 7, 8, 16, 6, 20, 2, 10, 3, 18, 1, 15, 14, 11, 12]\n",
      "\n",
      "NEH IR1: \n",
      "Total makespan:  1653\n",
      "Job order:  [5, 13, 17, 9, 19, 4, 7, 8, 16, 6, 20, 2, 10, 3, 18, 1, 15, 14, 11, 12]\n",
      "\n",
      "\n",
      "ta080.txt\n",
      "NEH: \n",
      "Total makespan:  5903\n",
      "Job order:  [63, 71, 78, 57, 97, 52, 66, 89, 46, 17, 9, 8, 99, 88, 10, 82, 94, 87, 54, 42, 69, 79, 64, 81, 15, 48, 2, 68, 73, 20, 47, 100, 92, 76, 74, 28, 75, 55, 80, 30, 36, 4, 83, 19, 31, 25, 14, 7, 44, 96, 21, 18, 13, 95, 72, 70, 50, 37, 86, 53, 58, 1, 11, 35, 45, 5, 67, 85, 23, 51, 39, 60, 49, 61, 93, 27, 98, 33, 12, 90, 43, 77, 56, 65, 41, 24, 40, 6, 59, 38, 3, 22, 29, 16, 26, 91, 62, 32, 84, 34]\n",
      "\n",
      "NEH IR1: \n",
      "Total makespan:  5908\n",
      "Job order:  [63, 66, 71, 57, 97, 52, 28, 46, 14, 9, 81, 100, 17, 89, 8, 78, 99, 2, 32, 54, 88, 42, 24, 6, 10, 94, 69, 55, 16, 64, 21, 47, 48, 19, 92, 73, 15, 1, 18, 80, 85, 56, 30, 76, 31, 36, 37, 83, 75, 4, 13, 82, 44, 22, 96, 34, 86, 50, 7, 25, 45, 95, 98, 72, 40, 53, 70, 23, 35, 3, 60, 58, 51, 39, 49, 5, 67, 61, 93, 33, 12, 41, 84, 90, 43, 65, 11, 74, 38, 27, 87, 59, 77, 79, 29, 68, 20, 62, 26, 91]\n",
      "\n",
      "\n",
      "ta010.txt\n",
      "NEH: \n",
      "Total makespan:  1151\n",
      "Job order:  [7, 19, 11, 12, 16, 6, 1, 13, 10, 15, 2, 8, 3, 4, 18, 14, 17, 5, 20, 9]\n",
      "\n",
      "NEH IR1: \n",
      "Total makespan:  1151\n",
      "Job order:  [11, 7, 6, 19, 12, 16, 1, 13, 10, 15, 2, 8, 3, 4, 18, 14, 17, 5, 20, 9]\n",
      "\n",
      "\n",
      "ta090.txt\n",
      "NEH: \n",
      "Total makespan:  6677\n",
      "Job order:  [77, 11, 34, 15, 27, 20, 56, 28, 81, 100, 38, 35, 21, 88, 67, 24, 7, 1, 54, 42, 51, 62, 89, 6, 60, 87, 79, 71, 74, 47, 12, 33, 23, 41, 13, 25, 83, 92, 98, 37, 86, 40, 52, 78, 48, 2, 46, 72, 5, 32, 65, 84, 10, 97, 9, 91, 95, 68, 26, 18, 22, 43, 8, 30, 31, 4, 50, 69, 96, 61, 16, 66, 90, 82, 14, 99, 3, 76, 63, 36, 94, 29, 17, 70, 49, 80, 45, 64, 57, 44, 75, 73, 39, 58, 19, 55, 85, 59, 53, 93]\n",
      "\n",
      "NEH IR1: \n",
      "Total makespan:  6714\n",
      "Job order:  [77, 11, 90, 6, 1, 38, 27, 20, 24, 39, 34, 91, 67, 87, 12, 54, 25, 92, 66, 48, 18, 64, 35, 36, 78, 65, 95, 62, 56, 98, 37, 86, 96, 74, 40, 42, 79, 94, 52, 13, 88, 84, 5, 72, 10, 2, 97, 43, 15, 9, 26, 22, 4, 8, 21, 68, 57, 99, 46, 16, 60, 70, 49, 47, 14, 83, 32, 51, 31, 81, 33, 71, 69, 23, 75, 80, 3, 61, 44, 76, 100, 41, 7, 82, 45, 50, 17, 29, 63, 28, 58, 30, 19, 55, 89, 73, 85, 59, 53, 93]\n",
      "\n",
      "\n",
      "ta050.txt\n",
      "NEH: \n",
      "Total makespan:  3272\n",
      "Job order:  [11, 21, 15, 49, 9, 39, 17, 8, 27, 38, 7, 10, 6, 1, 36, 42, 13, 24, 41, 44, 4, 32, 16, 20, 26, 43, 3, 48, 22, 19, 28, 25, 2, 47, 30, 35, 29, 46, 34, 33, 5, 31, 37, 18, 12, 23, 50, 40, 14, 45]\n",
      "\n",
      "NEH IR1: \n",
      "Total makespan:  3236\n",
      "Job order:  [49, 11, 22, 42, 15, 17, 8, 38, 10, 27, 41, 6, 24, 32, 34, 46, 21, 1, 9, 39, 19, 28, 30, 13, 47, 20, 44, 48, 16, 23, 7, 3, 36, 26, 31, 25, 29, 35, 4, 12, 5, 18, 14, 43, 2, 37, 40, 50, 33, 45]\n",
      "\n",
      "\n",
      "ta060.txt\n",
      "NEH: \n",
      "Total makespan:  4079\n",
      "Job order:  [36, 19, 1, 33, 22, 15, 42, 10, 37, 14, 4, 50, 47, 7, 21, 9, 8, 18, 20, 28, 31, 27, 44, 39, 3, 38, 23, 43, 49, 24, 32, 35, 25, 5, 17, 29, 13, 45, 41, 40, 6, 2, 11, 12, 46, 26, 16, 30, 48, 34]\n",
      "\n",
      "NEH IR1: \n",
      "Total makespan:  3949\n",
      "Job order:  [36, 33, 3, 1, 32, 39, 37, 18, 19, 31, 20, 50, 43, 47, 8, 12, 16, 9, 27, 44, 49, 42, 10, 28, 23, 38, 40, 25, 41, 22, 5, 24, 21, 46, 14, 2, 11, 35, 26, 15, 17, 30, 6, 29, 7, 13, 48, 4, 45, 34]\n",
      "\n",
      "\n",
      "ta040.txt\n",
      "NEH: \n",
      "Total makespan:  2803\n",
      "Job order:  [6, 34, 44, 30, 1, 39, 32, 21, 19, 12, 31, 33, 48, 27, 8, 35, 22, 43, 2, 18, 15, 29, 11, 3, 49, 24, 10, 5, 7, 40, 4, 46, 17, 41, 16, 47, 13, 9, 14, 42, 20, 37, 28, 38, 25, 26, 45, 36, 23, 50]\n",
      "\n",
      "NEH IR1: \n",
      "Total makespan:  2795\n",
      "Job order:  [6, 2, 50, 32, 34, 1, 44, 21, 48, 33, 30, 19, 27, 43, 31, 39, 20, 8, 35, 36, 18, 3, 15, 29, 49, 28, 11, 24, 41, 17, 16, 10, 5, 37, 7, 40, 13, 46, 42, 14, 4, 47, 38, 9, 26, 22, 45, 12, 23, 25]\n",
      "\n",
      "\n",
      "ta000.txt\n",
      "NEH: \n",
      "Total makespan:  32\n",
      "Job order:  [1, 4, 3, 2]\n",
      "\n",
      "NEH IR1: \n",
      "Total makespan:  32\n",
      "Job order:  [1, 4, 3, 2]\n",
      "\n",
      "\n",
      "ta100.txt\n",
      "NEH: \n",
      "Total makespan:  10775\n",
      "Job order:  [149, 148, 46, 132, 39, 177, 14, 143, 83, 111, 127, 74, 12, 24, 135, 179, 193, 43, 182, 101, 138, 10, 130, 168, 2, 28, 164, 131, 81, 1, 5, 53, 117, 79, 3, 38, 86, 186, 152, 66, 116, 196, 161, 188, 110, 174, 40, 199, 166, 119, 85, 32, 65, 165, 68, 25, 77, 7, 88, 60, 184, 50, 98, 185, 154, 19, 105, 158, 136, 57, 170, 11, 155, 58, 121, 51, 198, 157, 142, 64, 31, 172, 89, 8, 195, 187, 151, 167, 141, 29, 180, 75, 94, 95, 175, 37, 106, 63, 190, 181, 139, 4, 104, 178, 9, 108, 128, 134, 18, 200, 96, 153, 54, 162, 145, 76, 20, 23, 33, 70, 171, 194, 16, 93, 26, 123, 103, 107, 133, 61, 35, 137, 140, 84, 113, 82, 17, 122, 191, 183, 21, 15, 163, 118, 150, 49, 45, 44, 67, 124, 173, 36, 160, 159, 189, 115, 114, 34, 91, 78, 120, 112, 42, 30, 99, 156, 146, 144, 100, 72, 92, 56, 41, 13, 55, 102, 129, 59, 90, 22, 169, 48, 147, 109, 197, 176, 6, 69, 192, 87, 125, 27, 52, 97, 62, 47, 73, 80, 71, 126]\n",
      "\n",
      "NEH IR1: \n",
      "Total makespan:  10827\n",
      "Job order:  [148, 149, 138, 87, 127, 14, 46, 39, 65, 193, 182, 152, 69, 43, 10, 184, 31, 24, 3, 199, 131, 5, 86, 139, 19, 85, 179, 168, 53, 197, 142, 74, 164, 166, 155, 165, 105, 116, 68, 161, 180, 75, 38, 32, 77, 98, 188, 50, 119, 9, 89, 47, 111, 101, 51, 88, 7, 174, 154, 178, 8, 106, 158, 25, 11, 187, 29, 26, 57, 40, 58, 136, 145, 185, 141, 151, 153, 107, 1, 195, 28, 172, 95, 117, 6, 196, 134, 110, 167, 133, 79, 37, 190, 96, 63, 181, 198, 170, 186, 175, 104, 121, 112, 94, 23, 4, 108, 128, 18, 21, 83, 122, 150, 54, 20, 103, 70, 61, 67, 35, 200, 137, 91, 171, 177, 173, 45, 162, 16, 183, 34, 55, 41, 93, 115, 92, 82, 15, 81, 191, 100, 113, 33, 17, 189, 118, 49, 44, 36, 160, 159, 120, 102, 78, 114, 56, 30, 146, 99, 72, 163, 144, 42, 13, 192, 84, 156, 129, 62, 73, 59, 97, 48, 66, 90, 132, 157, 130, 194, 22, 169, 124, 125, 176, 27, 123, 143, 12, 76, 60, 135, 147, 64, 109, 52, 140, 2, 80, 71, 126]\n",
      "\n",
      "\n"
     ]
    }
   ],
   "source": [
    "for path in os.listdir('data'):\n",
    "    job_data = np.loadtxt(f'data/{path}', dtype=int, skiprows=1)\n",
    "    jobs = [Job(job_id, times) for job_id, times in enumerate(job_data)]\n",
    "\n",
    "    print(path)\n",
    "    sched = Scheduler(jobs)\n",
    "    print('NEH: ')\n",
    "    makespan, job_order = sched.neh_algorithm()\n",
    "    print('Total makespan: ', makespan)\n",
    "    print('Job order: ', job_order)\n",
    "    print('\\nNEH IR1: ')\n",
    "    makespan, job_order = sched.neh_algorithm(improvement=1)\n",
    "    print('Total makespan: ', makespan)\n",
    "    print('Job order: ', job_order)\n",
    "    print('\\n')"
   ]
  },
  {
   "cell_type": "markdown",
   "metadata": {},
   "source": [
    "## Wnioski\n",
    "\n",
    "Otrzymane wyniki są w większości zgodne z oczekiwanymi, w niektórych przypadkach okazały się nawet lepsze, mimo to różnice są niezauważalne (rzędu 0.1%). Ulepszenie IR1 zazwyczaj dawało lepszą permutację, lecz zdarzały się przypadki dla których ulepszenie pogorszyło wynik."
   ]
  },
  {
   "cell_type": "code",
   "execution_count": null,
   "metadata": {},
   "outputs": [],
   "source": []
  }
 ],
 "metadata": {
  "kernelspec": {
   "display_name": "Python 3",
   "language": "python",
   "name": "python3"
  },
  "language_info": {
   "codemirror_mode": {
    "name": "ipython",
    "version": 3
   },
   "file_extension": ".py",
   "mimetype": "text/x-python",
   "name": "python",
   "nbconvert_exporter": "python",
   "pygments_lexer": "ipython3",
   "version": "3.7.1"
  }
 },
 "nbformat": 4,
 "nbformat_minor": 2
}
